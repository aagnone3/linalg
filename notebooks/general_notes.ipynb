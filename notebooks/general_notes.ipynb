{
 "cells": [
  {
   "cell_type": "markdown",
   "metadata": {},
   "source": [
    "- A function is a rule that assigns an output for an input from a set $S$.\n",
    "- The output of a function $f$ is called the _image_ of the input under $f$.\n",
    "- The input to a function $f$ is called the _pre-image_ of the output under $f$.\n",
    "- The set $S$ which defines all possible inputs to $f$ is the domain of $f$.\n",
    "- A function is formally defined as a (potentially infinite) set of input-output pairs $(a,b)$. This connects nicely with the standard notion in machine learning of _learning_ a function $f$ from data, where the data is a (potentially corrupted or insufficiently explained) subset $\\tilde{S}$ of its input-output pairs. The problem of developing features as input to a machine learning model is actually specifying a domain for the eventual $\\hat{f}$ that we learn. The question that then comes is how well that domain corresponds to the true domain of $f$. By neglecting to include important features in the domain of our $\\hat{f}$, we are leaving a null space in our function.\n",
    "- When we say $y = f(x)$, we are defining a mapping from an input $x$ to its image $y$ under $f$. An equivalent statement for the expression is \"$x$ maps to $y$ under $f$\". The mapping notation for this is $q \\mapsto r$.\n",
    "- *co-domain*: the co-domain of a function $f$ is the set _from which_ its outputs come from. The co-domain of a function need not span this set, e.g. sinusoids have co-domain $R$ but never have an absolute value greater than their amplitude.\n",
    "- *function image*: the image of a function $f$ is the set of elements in its co-domain which are also outputs of $f$. This provides the distinction between elements that are in a function's co-domain and elements which are an output of $f$.\n",
    "- *one-to-one*: a function $f: D \\mapsto F$ is one-to-one if, for any $x,y \\in D$, $f(x) = f(y) implies that x = y$. This means that the mapping $f$ between sets $D$ and $F$ does not contain any \"redundant/ambiguous connections\" between the sets. The fact that a function is one-to-one does _not_ imply that it is onto, so there may still be an element in its domain for which there is no mapping onto the co-domain.\n",
    "- *onto*: a function $f: D \\mapsto F$ is onto if, for any $z \\in F$, there is a $x \\in D$ with $f(x) = z$. This means that the function can map all elements from its domain into its co-domain. The fact that a function is onto does _not_ imply that it is one-to-one, so there mayb still be two elements in its domain which map to the same element in the co-domain.\n",
    "- a function is only invertible if it is both one-to-one and onto.\n",
    "    - If $f$ is not one-to-one, there exist two elements ${x_1, x_2}$ in its domain which have an identical image under $f$. That is, $f(x_1) = f(x_2)$. Therefore, if you are given either $f(x_1)$ or $f(x_2)$ individually, it is not possible to dis-ambiguate whether the true pre-image is $x_1$ or $x_2$.\n",
    "    - If $f$ is not onto, there is an element $z$ in its domain which does not have an image under f. Thus, $f^{-1}(f(z))$ does not exist.\n",
    "- TODO circle back and define what the pseudo-inverse does in terms of one-to-one, onto, and mapping elements from a domain to a co-domain.\n",
    "- multiplying a number by a complex number is a *rotation* in the complex plane. This aligns with the fact that multiplication of a signal with a complex exponential results in a phase shift of the signal, where a phase shift is a rotation in the complex plane."
   ]
  },
  {
   "cell_type": "code",
   "execution_count": null,
   "metadata": {},
   "outputs": [],
   "source": []
  }
 ],
 "metadata": {
  "kernelspec": {
   "display_name": "Python 3",
   "language": "python",
   "name": "python3"
  },
  "language_info": {
   "codemirror_mode": {
    "name": "ipython",
    "version": 3
   },
   "file_extension": ".py",
   "mimetype": "text/x-python",
   "name": "python",
   "nbconvert_exporter": "python",
   "pygments_lexer": "ipython3",
   "version": "3.6.3"
  }
 },
 "nbformat": 4,
 "nbformat_minor": 2
}
