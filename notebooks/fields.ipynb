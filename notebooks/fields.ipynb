{
 "cells": [
  {
   "cell_type": "code",
   "execution_count": 1,
   "metadata": {},
   "outputs": [],
   "source": [
    "%matplotlib inline\n",
    "import numpy as np\n",
    "from numpy import max, abs, dot, array\n",
    "import pandas as pd\n",
    "import matplotlib.pyplot as plt\n"
   ]
  },
  {
   "cell_type": "markdown",
   "metadata": {},
   "source": [
    "### Multiplying by complex numbers is a rotation\n",
    "This is a minor re-wording of the bread-and-butter knowledge in signal processing that (using $i=e^{j \\frac {\\pi} 2}$) multiplication of a signal with a complex exponential results in shifting the phase of the signal. If we view the signal as a vector in polar form in the complex plane, the multiplication by a complex exponential is equivalent to applying a rotation matrix constructed by the desired angle of the phase shift."
   ]
  },
  {
   "cell_type": "code",
   "execution_count": 4,
   "metadata": {},
   "outputs": [
    {
     "data": {
      "image/png": "[encoded data removed]",
      "text/plain": [
       "<matplotlib.figure.Figure at 0x7fdc4a9fe710>"
      ]
     },
     "metadata": {},
     "output_type": "display_data"
    }
   ],
   "source": [
    "complex_nums = array([\n",
    "    -5+4j,\n",
    "    -5+3j, -4+3j, -3+3j, -2+3j, -1+3j,\n",
    "                         -2+2j,\n",
    "])\n",
    "\n",
    "def plot_axes(length):\n",
    "    plt.plot([0, 0], [-length, length], color='k')\n",
    "    plt.plot([-length, length], [0, 0], color='k')\n",
    "    \n",
    "def plot_complex(nums):\n",
    "    plt.scatter(nums.real, nums.imag)\n",
    "    lim = 1 + max([max(abs(nums.real)), max(abs(nums.imag))])\n",
    "    plot_axes(lim)\n",
    "    plt.axis([-lim, lim, -lim, lim])\n",
    "    \n",
    "# multiplying by i is a rotation counter-clockwise by 45 degrees\n",
    "plt.figure()\n",
    "inds = [1, 3, 4, 2]\n",
    "for i in range(1, 5):\n",
    "    plt.subplot(2, 2, inds[i-1])\n",
    "    plot_complex(complex_nums)\n",
    "    complex_nums *= 1j"
   ]
  },
  {
   "cell_type": "markdown",
   "metadata": {},
   "source": [
    "### Complex Exponentials and Rotation Matrices\n",
    "Let's bridge the gap that many face when asking signal processing folks and graphics folks about rotations. We can do this by showing how to rotate a vector $\\begin{bmatrix} 1 \\\\ 0 \\end{bmatrix}$ in $\\mathbb{C}$ by 45$^{\\circ}$ by 1) multiplication by a complex exponential and 2) multiplication by a rotation matrix."
   ]
  },
  {
   "cell_type": "markdown",
   "metadata": {},
   "source": [
    "#### Complex Exponential (Signal Processing)\n",
    "By Euler's method, we know that $i=e^{j \\frac {\\pi} 2}$. Let's also represent our vector $\\begin{bmatrix} 1 \\\\ 0 \\end{bmatrix}$ in it's rectangular form as $1 + 0j$, and then convert it to its polar form as $e^{j0}$. Multiplying these two, we get\n",
    "\n",
    "$$\n",
    "\\begin{align}\n",
    "    e^{j \\frac \\pi 2}e^{j0} = e^{j \\frac \\pi 2 + 0}\n",
    "            &= e^{j \\frac \\pi 2} \\\\\n",
    "            &= 0 + 1j \\\\\n",
    "            &= \\begin{bmatrix}0 \\\\ 1 \\end{bmatrix}\n",
    "\\end{align}\n",
    "$$"
   ]
  },
  {
   "cell_type": "markdown",
   "metadata": {},
   "source": [
    "#### Rotation Matrix\n",
    "The canonical rotation matrix for a desired angle $\\theta$ for a two-dimensional space is\n",
    "$$\n",
    "\\begin{bmatrix}\n",
    "cos \\theta  & -sin \\theta \\\\\n",
    "sin \\theta  & cos \\theta\n",
    "\\end{bmatrix}\n",
    "$$\n",
    "\n",
    "So let's take $\\mathbb{C}$ for our space. Since the current rotation is $\\theta = 45^{\\circ}$, the corresponding rotation matrix is\n",
    "$$\n",
    "\\begin{bmatrix}\n",
    "0  & -1 \\\\\n",
    "1  & 0\n",
    "\\end{bmatrix}\n",
    "$$\n",
    "\n",
    "Applying the rotation matrix to the original vector, we have\n",
    "$$\n",
    "\\begin{bmatrix}\n",
    "0  & -1 \\\\\n",
    "1  & 0\n",
    "\\end{bmatrix}\n",
    "\\begin{bmatrix}\n",
    "1 \\\\\n",
    "0\n",
    "\\end{bmatrix}\n",
    "=\n",
    "\\begin{bmatrix}\n",
    "0 \\\\\n",
    "1\n",
    "\\end{bmatrix}\n",
    "$$"
   ]
  },
  {
   "cell_type": "markdown",
   "metadata": {},
   "source": [
    "#### The Bridge\n",
    "We can start with the rotation matrix representation and bridge over to the phasor (complex exponential) representation. The rotation of angle $\\theta$ on an arbitrary vector $c \\in \\mathbb{C}, c = c_r + j c_i$ is\n",
    "$$\n",
    "\\begin{bmatrix}\n",
    "cos \\theta  & -sin \\theta \\\\\n",
    "sin \\theta  & cos \\theta\n",
    "\\end{bmatrix}\n",
    "\\begin{bmatrix}\n",
    "c_r \\\\\n",
    "c_i\n",
    "\\end{bmatrix}\n",
    "=\n",
    "\\begin{bmatrix}\n",
    "c_r cos \\theta - c_i sin \\theta \\\\\n",
    "c_r sin \\theta + c_i cos \\theta\n",
    "\\end{bmatrix}\n",
    "$$\n",
    "\n",
    "Remember that this is a representation of a vector in $\\mathbb{C}$, so $\\begin{bmatrix}x \\\\ y \\end{bmatrix} = x + j y$. Therefore,\n",
    "$$\n",
    "\\begin{align}\n",
    "    \\begin{bmatrix}\n",
    "    c_r cos \\theta - c_i sin \\theta \\\\\n",
    "    c_r sin \\theta + c_i cos \\theta\n",
    "    \\end{bmatrix}\n",
    "    &= c_r cos \\theta - c_i sin \\theta + j(c_r sin \\theta + c_i cos \\theta) \\\\\n",
    "    &= c_r cos \\theta + j^2 c_i sin \\theta + j c_r sin \\theta + j c_i cos \\theta \\\\\n",
    "    &= (c_r + j c_i)(cos \\theta + j sin \\theta) \\\\\n",
    "    &= c e^{j\\theta}\n",
    "\\end{align}\n",
    "$$\n",
    "\n",
    "So the real bridge here was that rotation via the complex exponential was accomplished using polar coordinates, while using the rotation matrix worked in rectangular coordinates. By converting the coordinate system of one, you arrive at the other."
   ]
  },
  {
   "cell_type": "code",
   "execution_count": null,
   "metadata": {},
   "outputs": [],
   "source": []
  }
 ],
 "metadata": {
  "kernelspec": {
   "display_name": "Python 3",
   "language": "python",
   "name": "python3"
  },
  "language_info": {
   "codemirror_mode": {
    "name": "ipython",
    "version": 3
   },
   "file_extension": ".py",
   "mimetype": "text/x-python",
   "name": "python",
   "nbconvert_exporter": "python",
   "pygments_lexer": "ipython3",
   "version": "3.6.3"
  }
 },
 "nbformat": 4,
 "nbformat_minor": 2
}
